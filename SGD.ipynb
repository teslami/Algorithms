{
 "cells": [
  {
   "cell_type": "markdown",
   "metadata": {},
   "source": [
    "### Gradient descent\n",
    "\n",
    "#### The gradient of a multivariable function $f$ is a vector of the partial derivatives of $f$ with respect to each variable. It indicates the direction of steepest ascent, meaning that for a given point, moving in the direction of the gradient vector results in the most rapid rate of change. Each partial derivative component of the gradient vector represents the derivative of $f$ with respect to one variable, holding all other variables constant, and shows the slope of the tangent line to the function along that direction. Gradient Descent is a greedy algorithm that updates model's parameters using the following equation.\n",
    "\n",
    "$\\theta = \\theta  - \\lambda \\times \\sigma f / \\sigma \\theta$"
   ]
  },
  {
   "cell_type": "markdown",
   "metadata": {},
   "source": []
  }
 ],
 "metadata": {
  "kernelspec": {
   "display_name": "Python 3",
   "language": "python",
   "name": "python3"
  },
  "language_info": {
   "codemirror_mode": {
    "name": "ipython",
    "version": 3
   },
   "file_extension": ".py",
   "mimetype": "text/x-python",
   "name": "python",
   "nbconvert_exporter": "python",
   "pygments_lexer": "ipython3",
   "version": "3.9.7"
  }
 },
 "nbformat": 4,
 "nbformat_minor": 2
}
