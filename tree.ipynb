{
 "cells": [
  {
   "cell_type": "code",
   "execution_count": 19,
   "metadata": {},
   "outputs": [
    {
     "name": "stdout",
     "output_type": "stream",
     "text": [
      "1\n",
      "2\n",
      "3\n",
      "4\n",
      "5\n",
      "6\n",
      "7\n",
      "8\n",
      "9\n",
      "10\n",
      "11\n"
     ]
    }
   ],
   "source": [
    "class TreeNode:\n",
    "    def __init__(self, value):\n",
    "        self.value = value\n",
    "        self.left = None\n",
    "        self.right = None\n",
    "\n",
    "\n",
    "class Tree:\n",
    "    def __init__(self, root_value):\n",
    "        self.root = TreeNode(root_value)\n",
    "    \n",
    "    def add_left_node(self, node: TreeNode, value):\n",
    "        if value is not None:\n",
    "            node.left = TreeNode(value)\n",
    "\n",
    "    def add_right_node(self, node: TreeNode, value):\n",
    "        if value is not None:\n",
    "            node.right = TreeNode(value)\n",
    "\n",
    "    def add_nodes(self, values):\n",
    "        current_node = self.root\n",
    "        added_nodes = []\n",
    "        for idx, value in enumerate(values, start=1):\n",
    "            if idx%2==1:\n",
    "                self.add_left_node(current_node, value)\n",
    "                added_nodes.append(current_node.left)\n",
    "            else:\n",
    "                self.add_right_node(current_node, value)\n",
    "                added_nodes.append(current_node.right)\n",
    "                current_node = added_nodes.pop(0)\n",
    "    \n",
    "\n",
    "tree_values = [1, 2, 3, 4, 8, 6, 9, 12, None, None, 32]\n",
    "\n",
    "tree = Tree(tree_values[1])\n",
    "\n",
    "tree.add_nodes(tree_values)\n",
    "\n"
   ]
  },
  {
   "cell_type": "code",
   "execution_count": 20,
   "metadata": {},
   "outputs": [
    {
     "data": {
      "text/plain": [
       "1"
      ]
     },
     "execution_count": 20,
     "metadata": {},
     "output_type": "execute_result"
    }
   ],
   "source": [
    "tree.root.left.value"
   ]
  },
  {
   "cell_type": "code",
   "execution_count": null,
   "metadata": {},
   "outputs": [],
   "source": []
  }
 ],
 "metadata": {
  "kernelspec": {
   "display_name": "base",
   "language": "python",
   "name": "python3"
  },
  "language_info": {
   "codemirror_mode": {
    "name": "ipython",
    "version": 3
   },
   "file_extension": ".py",
   "mimetype": "text/x-python",
   "name": "python",
   "nbconvert_exporter": "python",
   "pygments_lexer": "ipython3",
   "version": "3.9.7"
  }
 },
 "nbformat": 4,
 "nbformat_minor": 2
}
